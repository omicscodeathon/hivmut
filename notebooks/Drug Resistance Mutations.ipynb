{
 "cells": [
  {
   "cell_type": "markdown",
   "metadata": {},
   "source": [
    "## Importing the Necessary Libraries"
   ]
  },
  {
   "cell_type": "code",
   "execution_count": 1,
   "metadata": {},
   "outputs": [],
   "source": [
    "import  numpy as np\n",
    "import pandas as pd\n",
    "import seaborn as sns\n",
    "import matplotlib.pyplot as plt\n",
    "import warnings\n",
    "import plotnine as p9\n",
    "import scipy\n",
    "import geopandas as gpd\n",
    "import geodatasets\n",
    "from statsmodels.tsa.arima.model import ARIMA\n",
    "import statsmodels.api as sm\n",
    "from statsmodels.stats.diagnostic import het_breuschpagan\n",
    "from statsmodels.tsa.seasonal import seasonal_decompose\n",
    "from sklearn.cluster import KMeans\n",
    "from sklearn.ensemble import IsolationForest"
   ]
  },
  {
   "cell_type": "code",
   "execution_count": 2,
   "metadata": {},
   "outputs": [],
   "source": [
    "# Writing the necessary configurations for the Libraries\n",
    "## I want to ignore all warnings\n",
    "warnings.filterwarnings(\"ignore\")\n",
    "\n",
    "## I want all the columns in the dataset to be displayed\n",
    "pd.set_option(\"display.max_columns\", None)\n",
    "\n",
    "## Setting the Plot Styles So that the visualizations will be publication ready\n",
    "sns.set_style(\"whitegrid\")\n",
    "\n",
    "plt.rcParams.update({\n",
    "    \"axes.edgecolor\": \"black\",\n",
    "    \"axes.linewidth\": 1.25,\n",
    "    \"grid.linestyle\": \"--\",\n",
    "    \"grid.alpha\": 0.7,\n",
    "    \"axes.labelsize\": 14,\n",
    "    \"axes.titlesize\": 16,\n",
    "    \"legend.fontsize\": 8,\n",
    "    \"xtick.labelsize\": 12,\n",
    "    \"ytick.labelsize\": 12,\n",
    "    \"font.family\": \"sans-serif\",\n",
    "    \"font.sans-serif\": [\"Arial\", \"Helvetica\", \"DejaVu Sans\"],\n",
    "    \"lines.linewidth\": 1,\n",
    "    \"lines.markersize\": 4,\n",
    "    \"figure.dpi\": 300,\n",
    "    \"savefig.dpi\": 300,\n",
    "    \"figure.figsize\": [10,6]\n",
    "})"
   ]
  },
  {
   "cell_type": "markdown",
   "metadata": {},
   "source": [
    "## Merging Darasets to use"
   ]
  },
  {
   "cell_type": "code",
   "execution_count": 8,
   "metadata": {},
   "outputs": [
    {
     "data": {
      "text/plain": [
       "Index(['Unnamed: 0', '#', 'SE id(SA)', 'Accession', 'GI number', 'Version',\n",
       "       'Se ID', 'Sequence Length', 'GB comment', 'GB create date',\n",
       "       'GB update date', 'Percent non-ACGT', 'SE id(SSAM)', 'PAT id(SSAM)',\n",
       "       'Name', 'Locus Name', 'Isolate Name', 'Clone Name', 'Georegion',\n",
       "       'Country', 'Sampling City', 'Sampling Year', 'Sampling Year Upper',\n",
       "       'Patient Age', 'Patient Health', 'Organism', 'Subtype', 'Phenotype',\n",
       "       'Coreceptor', 'Sample Tissue', 'Culture Method', 'Molecule type',\n",
       "       'Drug Naive', 'Problematic Sequence', 'Viral load', 'CD4 count',\n",
       "       'CD8 count', 'Days from Infection', 'Days from Seroconversion',\n",
       "       'Days from first Sample', 'Sequencing method', 'Amplification strategy',\n",
       "       'Fiebig Stage', 'Anno', 'Days from treatment start',\n",
       "       'Days from treatment end', 'Vaccine status', 'RIP subtype',\n",
       "       'Patient Id', 'Patient Sex', 'Risk Factor', 'Infection Year'],\n",
       "      dtype='object')"
      ]
     },
     "execution_count": 8,
     "metadata": {},
     "output_type": "execute_result"
    }
   ],
   "source": [
    "metadata_path = \"accessions/correct_metadata.csv\"\n",
    "metadata_df = pd.read_csv(metadata_path)\n",
    "metadata_df.columns"
   ]
  },
  {
   "cell_type": "code",
   "execution_count": 7,
   "metadata": {},
   "outputs": [
    {
     "data": {
      "text/html": [
       "<div>\n",
       "<style scoped>\n",
       "    .dataframe tbody tr th:only-of-type {\n",
       "        vertical-align: middle;\n",
       "    }\n",
       "\n",
       "    .dataframe tbody tr th {\n",
       "        vertical-align: top;\n",
       "    }\n",
       "\n",
       "    .dataframe thead th {\n",
       "        text-align: right;\n",
       "    }\n",
       "</style>\n",
       "<table border=\"1\" class=\"dataframe\">\n",
       "  <thead>\n",
       "    <tr style=\"text-align: right;\">\n",
       "      <th></th>\n",
       "      <th>Input Sequence</th>\n",
       "      <th>Gene Name</th>\n",
       "      <th>Drug Class</th>\n",
       "      <th>Drug</th>\n",
       "      <th>Drug Full Name</th>\n",
       "      <th>Score</th>\n",
       "      <th>Level</th>\n",
       "      <th>Mutation Text</th>\n",
       "      <th>Mutation Primary Type</th>\n",
       "    </tr>\n",
       "  </thead>\n",
       "  <tbody>\n",
       "    <tr>\n",
       "      <th>0</th>\n",
       "      <td>KC422797</td>\n",
       "      <td>RT</td>\n",
       "      <td>NRTI</td>\n",
       "      <td>ABC</td>\n",
       "      <td>ABC</td>\n",
       "      <td>10.0</td>\n",
       "      <td>2</td>\n",
       "      <td>T215Y</td>\n",
       "      <td>NRTI</td>\n",
       "    </tr>\n",
       "    <tr>\n",
       "      <th>1</th>\n",
       "      <td>KC422797</td>\n",
       "      <td>RT</td>\n",
       "      <td>NRTI</td>\n",
       "      <td>AZT</td>\n",
       "      <td>AZT</td>\n",
       "      <td>60.0</td>\n",
       "      <td>5</td>\n",
       "      <td>T215Y</td>\n",
       "      <td>NRTI</td>\n",
       "    </tr>\n",
       "  </tbody>\n",
       "</table>\n",
       "</div>"
      ],
      "text/plain": [
       "  Input Sequence Gene Name Drug Class Drug Drug Full Name  Score  Level  \\\n",
       "0       KC422797        RT       NRTI  ABC            ABC   10.0      2   \n",
       "1       KC422797        RT       NRTI  AZT            AZT   60.0      5   \n",
       "\n",
       "  Mutation Text Mutation Primary Type  \n",
       "0         T215Y                  NRTI  \n",
       "1         T215Y                  NRTI  "
      ]
     },
     "execution_count": 7,
     "metadata": {},
     "output_type": "execute_result"
    }
   ],
   "source": [
    "resistance_data_path =\"../data/csv_output/drug_resistance_mutations.csv\"\n",
    "resistance_df = pd.read_csv(resistance_data_path)\n",
    "resistance_df.head(2)"
   ]
  },
  {
   "cell_type": "code",
   "execution_count": 9,
   "metadata": {},
   "outputs": [],
   "source": [
    "# In order to allow for better understanding of the dataset, we merge the metadata\n",
    "# with the resistance data by the countries, the subtypes and the sampling years.\n",
    "# Hence we can do subtype analysis, mutation type analysis, etc\n",
    "merged_df = pd.merge(\n",
    "    resistance_df, # Table that I am joining to\n",
    "    metadata_df[[\"Accession\", \"Sampling Year\", \"Country\", \"Subtype\"]], # the columns that I want to join with\n",
    "    left_on= \"Input Sequence\", # When joining, I wamt it to look at this in the first dataset\n",
    "    right_on = \"Accession\", # and look at this in the second dataset\n",
    "    how = \"left\" # And add the data that it finds in the first dataset if it is in the second dataset column that was specified.\n",
    ")"
   ]
  },
  {
   "cell_type": "code",
   "execution_count": 11,
   "metadata": {},
   "outputs": [],
   "source": [
    "merged_df = merged_df.dropna(subset=[\"Sampling Year\"])"
   ]
  },
  {
   "cell_type": "code",
   "execution_count": 14,
   "metadata": {},
   "outputs": [
    {
     "name": "stdout",
     "output_type": "stream",
     "text": [
      "Input Sequence contains 0 values\n",
      "Gene Name contains 0 values\n",
      "Drug Class contains 0 values\n",
      "Drug contains 0 values\n",
      "Drug Full Name contains 0 values\n",
      "Score contains 0 values\n",
      "Level contains 0 values\n",
      "Mutation Text contains 0 values\n",
      "Mutation Primary Type contains 0 values\n",
      "Accession contains 0 values\n",
      "Sampling Year contains 0 values\n",
      "Country contains 0 values\n",
      "Subtype contains 589 values\n"
     ]
    }
   ],
   "source": [
    "for column in merged_df.columns:\n",
    "    print(f'{column} contains {merged_df[column].isnull().sum()} values')"
   ]
  },
  {
   "cell_type": "code",
   "execution_count": 16,
   "metadata": {},
   "outputs": [],
   "source": [
    "# Grouping the dataframe into better chunks\n",
    "grouped_dfs = {\n",
    "    drug_class: group.reset_index(drop=True)\n",
    "    for drug_class, group in merged_df.groupby(\"Drug Class\")\n",
    "}"
   ]
  },
  {
   "cell_type": "code",
   "execution_count": 17,
   "metadata": {},
   "outputs": [
    {
     "data": {
      "text/plain": [
       "dict_keys(['INSTI', 'NNRTI', 'NRTI', 'PI'])"
      ]
     },
     "execution_count": 17,
     "metadata": {},
     "output_type": "execute_result"
    }
   ],
   "source": [
    "grouped_dfs.keys()"
   ]
  },
  {
   "cell_type": "code",
   "execution_count": 18,
   "metadata": {},
   "outputs": [],
   "source": [
    "insti_df = grouped_dfs[\"INSTI\"]\n",
    "nnrti_df = grouped_dfs[\"NNRTI\"]\n",
    "nrti_df = grouped_dfs[\"NRTI\"]\n",
    "pi_df = grouped_dfs[\"PI\"]"
   ]
  },
  {
   "cell_type": "code",
   "execution_count": null,
   "metadata": {},
   "outputs": [],
   "source": []
  }
 ],
 "metadata": {
  "kernelspec": {
   "display_name": "hivmuts",
   "language": "python",
   "name": "hivmuts"
  },
  "language_info": {
   "codemirror_mode": {
    "name": "ipython",
    "version": 3
   },
   "file_extension": ".py",
   "mimetype": "text/x-python",
   "name": "python",
   "nbconvert_exporter": "python",
   "pygments_lexer": "ipython3",
   "version": "3.11.5"
  }
 },
 "nbformat": 4,
 "nbformat_minor": 2
}
