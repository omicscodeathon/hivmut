{
 "cells": [
  {
   "cell_type": "code",
   "execution_count": 11,
   "id": "f1bc9235-7c48-43d6-a580-e4a018ad3f6e",
   "metadata": {
    "tags": []
   },
   "outputs": [],
   "source": [
    "import os\n",
    "import pandas as pd\n",
    "import polars as pl\n",
    "import numpy as np\n",
    "import matplotlib.pyplot as plt\n",
    "import seaborn as sns\n",
    "\n",
    "pd.set_option('display.max_columns', None)"
   ]
  },
  {
   "cell_type": "code",
   "execution_count": 8,
   "id": "e3d297bc-f540-4720-b3d9-03ac35b154d9",
   "metadata": {
    "tags": []
   },
   "outputs": [
    {
     "name": "stderr",
     "output_type": "stream",
     "text": [
      "<magic-timeit>:2: DtypeWarning: Columns (15,21,22,25,26,27,28,35,36,38,39,40,44) have mixed types. Specify dtype option on import or set low_memory=False.\n",
      "<magic-timeit>:2: DtypeWarning: Columns (15,21,22,25,26,27,28,35,36,38,39,40,44) have mixed types. Specify dtype option on import or set low_memory=False.\n",
      "<magic-timeit>:2: DtypeWarning: Columns (15,21,22,25,26,27,28,35,36,38,39,40,44) have mixed types. Specify dtype option on import or set low_memory=False.\n",
      "<magic-timeit>:2: DtypeWarning: Columns (15,21,22,25,26,27,28,35,36,38,39,40,44) have mixed types. Specify dtype option on import or set low_memory=False.\n",
      "<magic-timeit>:2: DtypeWarning: Columns (15,21,22,25,26,27,28,35,36,38,39,40,44) have mixed types. Specify dtype option on import or set low_memory=False.\n",
      "<magic-timeit>:2: DtypeWarning: Columns (15,21,22,25,26,27,28,35,36,38,39,40,44) have mixed types. Specify dtype option on import or set low_memory=False.\n",
      "<magic-timeit>:2: DtypeWarning: Columns (15,21,22,25,26,27,28,35,36,38,39,40,44) have mixed types. Specify dtype option on import or set low_memory=False.\n",
      "<magic-timeit>:2: DtypeWarning: Columns (15,21,22,25,26,27,28,35,36,38,39,40,44) have mixed types. Specify dtype option on import or set low_memory=False.\n"
     ]
    },
    {
     "name": "stdout",
     "output_type": "stream",
     "text": [
      "2.06 s ± 45.1 ms per loop (mean ± std. dev. of 7 runs, 1 loop each)\n"
     ]
    }
   ],
   "source": [
    "%%timeit\n",
    "\n",
    "data_path = '../data/metadata.csv'\n",
    "df = pd.read_csv(data_path)\n",
    "df.head()"
   ]
  },
  {
   "cell_type": "code",
   "execution_count": 14,
   "id": "c3839aa4-bd67-41f0-9c42-859686cf5398",
   "metadata": {
    "tags": []
   },
   "outputs": [
    {
     "name": "stderr",
     "output_type": "stream",
     "text": [
      "<magic-timeit>:1: DeprecationWarning: The argument `dtypes` for `read_csv` is deprecated. It has been renamed to `schema_overrides`.\n"
     ]
    },
    {
     "name": "stdout",
     "output_type": "stream",
     "text": [
      "296 ms ± 16.8 ms per loop (mean ± std. dev. of 7 runs, 1 loop each)\n"
     ]
    }
   ],
   "source": [
    "%%timeit\n",
    "\n",
    "df = pl.read_csv(data_path, infer_schema_length=10000, dtypes={\"Sampling Year Upper\": pl.Int64}, ignore_errors=True)"
   ]
  },
  {
   "cell_type": "code",
   "execution_count": null,
   "id": "090989b3-4344-458f-bcc6-311d2b2f4a87",
   "metadata": {},
   "outputs": [],
   "source": []
  }
 ],
 "metadata": {
  "kernelspec": {
   "display_name": "hivmut",
   "language": "python",
   "name": "hivmut"
  },
  "language_info": {
   "codemirror_mode": {
    "name": "ipython",
    "version": 3
   },
   "file_extension": ".py",
   "mimetype": "text/x-python",
   "name": "python",
   "nbconvert_exporter": "python",
   "pygments_lexer": "ipython3",
   "version": "3.11.5"
  }
 },
 "nbformat": 4,
 "nbformat_minor": 5
}
