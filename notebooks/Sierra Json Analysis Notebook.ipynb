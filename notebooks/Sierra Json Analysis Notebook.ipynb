{
 "cells": [
  {
   "cell_type": "markdown",
   "id": "048be18a-ceee-41bf-8e30-b35737c5b76a",
   "metadata": {},
   "source": [
    "# JSON Schema Mapping"
   ]
  },
  {
   "cell_type": "code",
   "execution_count": 2,
   "id": "e42e910f-e34a-46ba-83d7-280526f6c737",
   "metadata": {
    "tags": []
   },
   "outputs": [],
   "source": [
    "import pandas as pd\n",
    "import numpy as np\n",
    "import matplotlib.pyplot as plt\n",
    "import seaborn as sns\n",
    "import json\n",
    "from rich import print"
   ]
  },
  {
   "cell_type": "code",
   "execution_count": 3,
   "id": "2867309a",
   "metadata": {
    "scrolled": true,
    "tags": []
   },
   "outputs": [],
   "source": [
    "def generate_json_schema(data):\n",
    "    if isinstance(data, dict):\n",
    "        schema = {}\n",
    "        for key, value in data.items():\n",
    "            schema[key] = generate_json_schema(value)\n",
    "        return schema\n",
    "    elif isinstance(data, list):\n",
    "        if len(data) > 0:\n",
    "            return [generate_json_schema(data[0])]\n",
    "        else:\n",
    "            return []\n",
    "    else:\n",
    "        return type(data).__name__\n",
    "\n",
    "def print_json_schema(schema, indent=0):\n",
    "    if isinstance(schema, dict):\n",
    "        for key, value in schema.items():\n",
    "            print(' ' * indent + f\"{key}: {type(value).__name__}\")\n",
    "            print_json_schema(value, indent + 4)\n",
    "    elif isinstance(schema, list):\n",
    "        if len(schema) > 0:\n",
    "            print(' ' * indent + \"[0]: list\")\n",
    "            print_json_schema(schema[0], indent + 4)\n",
    "        else:\n",
    "            print(' ' * indent + \"[]: list (empty)\")\n",
    "    else:\n",
    "        print(' ' * indent + schema)\n",
    "\n",
    "# # Generate and print the JSON schema\n",
    "# schema = generate_json_schema(sierra_data[0])\n",
    "# print_json_schema(schema)\n"
   ]
  },
  {
   "cell_type": "code",
   "execution_count": 8,
   "id": "4e3f6be9-df84-481d-b0ec-dd13d32d1ca5",
   "metadata": {
    "scrolled": true,
    "tags": []
   },
   "outputs": [
    {
     "data": {
      "text/html": [
       "<pre style=\"white-space:pre;overflow-x:auto;line-height:normal;font-family:Menlo,'DejaVu Sans Mono',consolas,'Courier New',monospace\">tuple\n",
       "</pre>\n"
      ],
      "text/plain": [
       "tuple\n"
      ]
     },
     "metadata": {},
     "output_type": "display_data"
    }
   ],
   "source": [
    "overall_json = {\n",
    "\"gene\":{\n",
    "\"name\":\"PR\",\n",
    "\"__typename\":\"Gene\"\n",
    "},\n",
    "\"text\":\"I13V\",\n",
    "\"__typename\":\"Mutation\"\n",
    "},\n",
    "schema = generate_json_schema(overall_json)\n",
    "print_json_schema(schema)"
   ]
  },
  {
   "cell_type": "code",
   "execution_count": null,
   "id": "1de90f74-bb93-4809-8435-416c465e3e2f",
   "metadata": {},
   "outputs": [],
   "source": []
  },
  {
   "cell_type": "markdown",
   "id": "29f39a78-d3f5-4564-8b2c-a31712d20497",
   "metadata": {
    "jp-MarkdownHeadingCollapsed": true,
    "jupyter": {
     "source_hidden": true
    },
    "tags": []
   },
   "source": [
    "# Downstream Analysis"
   ]
  },
  {
   "cell_type": "code",
   "execution_count": null,
   "id": "050c94e5",
   "metadata": {
    "tags": []
   },
   "outputs": [],
   "source": [
    "import json\n",
    "import pandas as pd\n",
    "\n",
    "# Assuming `data` is your loaded JSON data and it's a list of dicts\n",
    "\n",
    "# Lists to hold the extracted information\n",
    "mutation_data = []\n",
    "drug_resistance_data = []\n",
    "gene_sequence_data = []\n",
    "\n",
    "# Iterate over each entry in the JSON data\n",
    "for entry in sierra_data:\n",
    "    # Extract input sequence details\n",
    "    header = entry['inputSequence']['header']\n",
    "    sha512 = entry['inputSequence']['SHA512']\n",
    "    \n",
    "    # Extract aligned gene sequences and mutations\n",
    "    for gene_info in entry['alignedGeneSequences']:\n",
    "        gene_name = gene_info['gene']['name']\n",
    "        first_aa = gene_info['firstAA']\n",
    "        last_aa = gene_info['lastAA']\n",
    "        gene_length = gene_info['gene']['length']\n",
    "        \n",
    "        # Store gene sequence data\n",
    "        gene_sequence_data.append({\n",
    "            'Header': header,\n",
    "            'Gene Name': gene_name,\n",
    "            'First AA': first_aa,\n",
    "            'Last AA': last_aa,\n",
    "            'Gene Length': gene_length\n",
    "        })\n",
    "        \n",
    "        # Extract mutation data\n",
    "        for mutation in gene_info['mutations']:\n",
    "            mutation_data.append({\n",
    "                'Header': header,\n",
    "                'Gene Name': gene_name,\n",
    "                'Position': mutation['position'],\n",
    "                'Amino Acids': mutation['AAs'],\n",
    "                'Is Unusual': mutation['isUnusual'],\n",
    "                'Primary Type': mutation['primaryType'],\n",
    "                'Text Description': mutation['text']\n",
    "            })\n",
    "    \n",
    "    # Extract drug resistance information\n",
    "    for resistance in entry['drugResistance']:\n",
    "        version = resistance['version']['text']\n",
    "        for score in resistance['drugScores']:\n",
    "            drug_resistance_data.append({\n",
    "                'Header': header,\n",
    "                'Version': version,\n",
    "                'Drug Class': score['drugClass']['name'],\n",
    "                'Drug Name': score['drug']['name'],\n",
    "                'Drug Abbreviation': score['drug']['displayAbbr'],\n",
    "                'Resistance Score': score['score'],\n",
    "                'Resistance Level': score['level'],\n",
    "                'Text Description': score['text']\n",
    "            })\n",
    "\n",
    "# Convert lists to pandas DataFrames\n",
    "mutation_df = pd.DataFrame(mutation_data)\n",
    "drug_resistance_df = pd.DataFrame(drug_resistance_data)\n",
    "gene_sequence_df = pd.DataFrame(gene_sequence_data)"
   ]
  },
  {
   "cell_type": "code",
   "execution_count": null,
   "id": "6a35ac4a-88e4-4cdd-b18b-76c7a41600e4",
   "metadata": {},
   "outputs": [],
   "source": []
  },
  {
   "cell_type": "code",
   "execution_count": null,
   "id": "bd8274f1",
   "metadata": {
    "collapsed": true,
    "jupyter": {
     "outputs_hidden": true,
     "source_hidden": true
    },
    "tags": []
   },
   "outputs": [
    {
     "data": {
      "text/html": [
       "<div>\n",
       "<style scoped>\n",
       "    .dataframe tbody tr th:only-of-type {\n",
       "        vertical-align: middle;\n",
       "    }\n",
       "\n",
       "    .dataframe tbody tr th {\n",
       "        vertical-align: top;\n",
       "    }\n",
       "\n",
       "    .dataframe thead th {\n",
       "        text-align: right;\n",
       "    }\n",
       "</style>\n",
       "<table border=\"1\" class=\"dataframe\">\n",
       "  <thead>\n",
       "    <tr style=\"text-align: right;\">\n",
       "      <th></th>\n",
       "      <th>Position</th>\n",
       "    </tr>\n",
       "  </thead>\n",
       "  <tbody>\n",
       "    <tr>\n",
       "      <th>count</th>\n",
       "      <td>6185.000000</td>\n",
       "    </tr>\n",
       "    <tr>\n",
       "      <th>mean</th>\n",
       "      <td>250.419725</td>\n",
       "    </tr>\n",
       "    <tr>\n",
       "      <th>std</th>\n",
       "      <td>162.446368</td>\n",
       "    </tr>\n",
       "    <tr>\n",
       "      <th>min</th>\n",
       "      <td>1.000000</td>\n",
       "    </tr>\n",
       "    <tr>\n",
       "      <th>25%</th>\n",
       "      <td>112.000000</td>\n",
       "    </tr>\n",
       "    <tr>\n",
       "      <th>50%</th>\n",
       "      <td>245.000000</td>\n",
       "    </tr>\n",
       "    <tr>\n",
       "      <th>75%</th>\n",
       "      <td>377.000000</td>\n",
       "    </tr>\n",
       "    <tr>\n",
       "      <th>max</th>\n",
       "      <td>559.000000</td>\n",
       "    </tr>\n",
       "  </tbody>\n",
       "</table>\n",
       "</div>"
      ],
      "text/plain": [
       "          Position\n",
       "count  6185.000000\n",
       "mean    250.419725\n",
       "std     162.446368\n",
       "min       1.000000\n",
       "25%     112.000000\n",
       "50%     245.000000\n",
       "75%     377.000000\n",
       "max     559.000000"
      ]
     },
     "execution_count": 29,
     "metadata": {},
     "output_type": "execute_result"
    }
   ],
   "source": [
    "mutation_df.describe()"
   ]
  },
  {
   "cell_type": "code",
   "execution_count": null,
   "id": "8afe2823",
   "metadata": {
    "collapsed": true,
    "jupyter": {
     "outputs_hidden": true,
     "source_hidden": true
    },
    "tags": []
   },
   "outputs": [
    {
     "data": {
      "text/html": [
       "<div>\n",
       "<style scoped>\n",
       "    .dataframe tbody tr th:only-of-type {\n",
       "        vertical-align: middle;\n",
       "    }\n",
       "\n",
       "    .dataframe tbody tr th {\n",
       "        vertical-align: top;\n",
       "    }\n",
       "\n",
       "    .dataframe thead th {\n",
       "        text-align: right;\n",
       "    }\n",
       "</style>\n",
       "<table border=\"1\" class=\"dataframe\">\n",
       "  <thead>\n",
       "    <tr style=\"text-align: right;\">\n",
       "      <th></th>\n",
       "      <th>Resistance Score</th>\n",
       "      <th>Resistance Level</th>\n",
       "    </tr>\n",
       "  </thead>\n",
       "  <tbody>\n",
       "    <tr>\n",
       "      <th>count</th>\n",
       "      <td>1975.000000</td>\n",
       "      <td>1975.000000</td>\n",
       "    </tr>\n",
       "    <tr>\n",
       "      <th>mean</th>\n",
       "      <td>0.437975</td>\n",
       "      <td>1.034937</td>\n",
       "    </tr>\n",
       "    <tr>\n",
       "      <th>std</th>\n",
       "      <td>4.091541</td>\n",
       "      <td>0.285223</td>\n",
       "    </tr>\n",
       "    <tr>\n",
       "      <th>min</th>\n",
       "      <td>-10.000000</td>\n",
       "      <td>1.000000</td>\n",
       "    </tr>\n",
       "    <tr>\n",
       "      <th>25%</th>\n",
       "      <td>0.000000</td>\n",
       "      <td>1.000000</td>\n",
       "    </tr>\n",
       "    <tr>\n",
       "      <th>50%</th>\n",
       "      <td>0.000000</td>\n",
       "      <td>1.000000</td>\n",
       "    </tr>\n",
       "    <tr>\n",
       "      <th>75%</th>\n",
       "      <td>0.000000</td>\n",
       "      <td>1.000000</td>\n",
       "    </tr>\n",
       "    <tr>\n",
       "      <th>max</th>\n",
       "      <td>90.000000</td>\n",
       "      <td>5.000000</td>\n",
       "    </tr>\n",
       "  </tbody>\n",
       "</table>\n",
       "</div>"
      ],
      "text/plain": [
       "       Resistance Score  Resistance Level\n",
       "count       1975.000000       1975.000000\n",
       "mean           0.437975          1.034937\n",
       "std            4.091541          0.285223\n",
       "min          -10.000000          1.000000\n",
       "25%            0.000000          1.000000\n",
       "50%            0.000000          1.000000\n",
       "75%            0.000000          1.000000\n",
       "max           90.000000          5.000000"
      ]
     },
     "execution_count": 31,
     "metadata": {},
     "output_type": "execute_result"
    }
   ],
   "source": [
    "drug_resistance_df.describe()"
   ]
  },
  {
   "cell_type": "code",
   "execution_count": null,
   "id": "46d8e5c1",
   "metadata": {
    "collapsed": true,
    "jupyter": {
     "outputs_hidden": true,
     "source_hidden": true
    },
    "tags": []
   },
   "outputs": [
    {
     "data": {
      "text/html": [
       "<div>\n",
       "<style scoped>\n",
       "    .dataframe tbody tr th:only-of-type {\n",
       "        vertical-align: middle;\n",
       "    }\n",
       "\n",
       "    .dataframe tbody tr th {\n",
       "        vertical-align: top;\n",
       "    }\n",
       "\n",
       "    .dataframe thead th {\n",
       "        text-align: right;\n",
       "    }\n",
       "</style>\n",
       "<table border=\"1\" class=\"dataframe\">\n",
       "  <thead>\n",
       "    <tr style=\"text-align: right;\">\n",
       "      <th></th>\n",
       "      <th>First AA</th>\n",
       "      <th>Last AA</th>\n",
       "      <th>Gene Length</th>\n",
       "    </tr>\n",
       "  </thead>\n",
       "  <tbody>\n",
       "    <tr>\n",
       "      <th>count</th>\n",
       "      <td>237.0</td>\n",
       "      <td>237.000000</td>\n",
       "      <td>237.000000</td>\n",
       "    </tr>\n",
       "    <tr>\n",
       "      <th>mean</th>\n",
       "      <td>1.0</td>\n",
       "      <td>315.666667</td>\n",
       "      <td>315.666667</td>\n",
       "    </tr>\n",
       "    <tr>\n",
       "      <th>std</th>\n",
       "      <td>0.0</td>\n",
       "      <td>189.616972</td>\n",
       "      <td>189.616972</td>\n",
       "    </tr>\n",
       "    <tr>\n",
       "      <th>min</th>\n",
       "      <td>1.0</td>\n",
       "      <td>99.000000</td>\n",
       "      <td>99.000000</td>\n",
       "    </tr>\n",
       "    <tr>\n",
       "      <th>25%</th>\n",
       "      <td>1.0</td>\n",
       "      <td>99.000000</td>\n",
       "      <td>99.000000</td>\n",
       "    </tr>\n",
       "    <tr>\n",
       "      <th>50%</th>\n",
       "      <td>1.0</td>\n",
       "      <td>288.000000</td>\n",
       "      <td>288.000000</td>\n",
       "    </tr>\n",
       "    <tr>\n",
       "      <th>75%</th>\n",
       "      <td>1.0</td>\n",
       "      <td>560.000000</td>\n",
       "      <td>560.000000</td>\n",
       "    </tr>\n",
       "    <tr>\n",
       "      <th>max</th>\n",
       "      <td>1.0</td>\n",
       "      <td>560.000000</td>\n",
       "      <td>560.000000</td>\n",
       "    </tr>\n",
       "  </tbody>\n",
       "</table>\n",
       "</div>"
      ],
      "text/plain": [
       "       First AA     Last AA  Gene Length\n",
       "count     237.0  237.000000   237.000000\n",
       "mean        1.0  315.666667   315.666667\n",
       "std         0.0  189.616972   189.616972\n",
       "min         1.0   99.000000    99.000000\n",
       "25%         1.0   99.000000    99.000000\n",
       "50%         1.0  288.000000   288.000000\n",
       "75%         1.0  560.000000   560.000000\n",
       "max         1.0  560.000000   560.000000"
      ]
     },
     "execution_count": 33,
     "metadata": {},
     "output_type": "execute_result"
    }
   ],
   "source": [
    "gene_sequence_df.describe()"
   ]
  },
  {
   "cell_type": "code",
   "execution_count": null,
   "id": "978cbfac",
   "metadata": {
    "collapsed": true,
    "jupyter": {
     "outputs_hidden": true,
     "source_hidden": true
    },
    "tags": []
   },
   "outputs": [
    {
     "data": {
      "text/html": [
       "<div>\n",
       "<style scoped>\n",
       "    .dataframe tbody tr th:only-of-type {\n",
       "        vertical-align: middle;\n",
       "    }\n",
       "\n",
       "    .dataframe tbody tr th {\n",
       "        vertical-align: top;\n",
       "    }\n",
       "\n",
       "    .dataframe thead th {\n",
       "        text-align: right;\n",
       "    }\n",
       "</style>\n",
       "<table border=\"1\" class=\"dataframe\">\n",
       "  <thead>\n",
       "    <tr style=\"text-align: right;\">\n",
       "      <th></th>\n",
       "      <th>Header</th>\n",
       "      <th>Version</th>\n",
       "      <th>Drug Class</th>\n",
       "      <th>Drug Name</th>\n",
       "      <th>Drug Abbreviation</th>\n",
       "      <th>Resistance Score</th>\n",
       "      <th>Resistance Level</th>\n",
       "      <th>Text Description</th>\n",
       "    </tr>\n",
       "  </thead>\n",
       "  <tbody>\n",
       "    <tr>\n",
       "      <th>0</th>\n",
       "      <td>DQ168573.1 HIV-1 isolate 01NGPL0567 from Niger...</td>\n",
       "      <td>HIVDB_9.6</td>\n",
       "      <td>PI</td>\n",
       "      <td>ATV</td>\n",
       "      <td>ATV/r</td>\n",
       "      <td>0.0</td>\n",
       "      <td>1</td>\n",
       "      <td>Susceptible</td>\n",
       "    </tr>\n",
       "    <tr>\n",
       "      <th>1</th>\n",
       "      <td>DQ168573.1 HIV-1 isolate 01NGPL0567 from Niger...</td>\n",
       "      <td>HIVDB_9.6</td>\n",
       "      <td>PI</td>\n",
       "      <td>DRV</td>\n",
       "      <td>DRV/r</td>\n",
       "      <td>0.0</td>\n",
       "      <td>1</td>\n",
       "      <td>Susceptible</td>\n",
       "    </tr>\n",
       "    <tr>\n",
       "      <th>2</th>\n",
       "      <td>DQ168573.1 HIV-1 isolate 01NGPL0567 from Niger...</td>\n",
       "      <td>HIVDB_9.6</td>\n",
       "      <td>PI</td>\n",
       "      <td>FPV</td>\n",
       "      <td>FPV/r</td>\n",
       "      <td>0.0</td>\n",
       "      <td>1</td>\n",
       "      <td>Susceptible</td>\n",
       "    </tr>\n",
       "    <tr>\n",
       "      <th>3</th>\n",
       "      <td>DQ168573.1 HIV-1 isolate 01NGPL0567 from Niger...</td>\n",
       "      <td>HIVDB_9.6</td>\n",
       "      <td>PI</td>\n",
       "      <td>IDV</td>\n",
       "      <td>IDV/r</td>\n",
       "      <td>0.0</td>\n",
       "      <td>1</td>\n",
       "      <td>Susceptible</td>\n",
       "    </tr>\n",
       "    <tr>\n",
       "      <th>4</th>\n",
       "      <td>DQ168573.1 HIV-1 isolate 01NGPL0567 from Niger...</td>\n",
       "      <td>HIVDB_9.6</td>\n",
       "      <td>PI</td>\n",
       "      <td>LPV</td>\n",
       "      <td>LPV/r</td>\n",
       "      <td>0.0</td>\n",
       "      <td>1</td>\n",
       "      <td>Susceptible</td>\n",
       "    </tr>\n",
       "  </tbody>\n",
       "</table>\n",
       "</div>"
      ],
      "text/plain": [
       "                                              Header    Version Drug Class  \\\n",
       "0  DQ168573.1 HIV-1 isolate 01NGPL0567 from Niger...  HIVDB_9.6         PI   \n",
       "1  DQ168573.1 HIV-1 isolate 01NGPL0567 from Niger...  HIVDB_9.6         PI   \n",
       "2  DQ168573.1 HIV-1 isolate 01NGPL0567 from Niger...  HIVDB_9.6         PI   \n",
       "3  DQ168573.1 HIV-1 isolate 01NGPL0567 from Niger...  HIVDB_9.6         PI   \n",
       "4  DQ168573.1 HIV-1 isolate 01NGPL0567 from Niger...  HIVDB_9.6         PI   \n",
       "\n",
       "  Drug Name Drug Abbreviation  Resistance Score  Resistance Level  \\\n",
       "0       ATV             ATV/r               0.0                 1   \n",
       "1       DRV             DRV/r               0.0                 1   \n",
       "2       FPV             FPV/r               0.0                 1   \n",
       "3       IDV             IDV/r               0.0                 1   \n",
       "4       LPV             LPV/r               0.0                 1   \n",
       "\n",
       "  Text Description  \n",
       "0      Susceptible  \n",
       "1      Susceptible  \n",
       "2      Susceptible  \n",
       "3      Susceptible  \n",
       "4      Susceptible  "
      ]
     },
     "execution_count": 35,
     "metadata": {},
     "output_type": "execute_result"
    }
   ],
   "source": [
    "drug_resistance_df.head()"
   ]
  },
  {
   "cell_type": "code",
   "execution_count": null,
   "id": "97c22811",
   "metadata": {
    "collapsed": true,
    "jupyter": {
     "outputs_hidden": true,
     "source_hidden": true
    },
    "tags": []
   },
   "outputs": [
    {
     "data": {
      "text/plain": [
       "Text Description\n",
       "Susceptible                       1934\n",
       "Potential Low-Level Resistance      26\n",
       "Low-Level Resistance                 8\n",
       "High-Level Resistance                6\n",
       "Intermediate Resistance              1\n",
       "Name: count, dtype: int64"
      ]
     },
     "execution_count": 37,
     "metadata": {},
     "output_type": "execute_result"
    }
   ],
   "source": [
    "drug_resistance_df['Text Description'].value_counts()"
   ]
  },
  {
   "cell_type": "code",
   "execution_count": null,
   "id": "c240968b",
   "metadata": {
    "collapsed": true,
    "jupyter": {
     "outputs_hidden": true,
     "source_hidden": true
    },
    "tags": []
   },
   "outputs": [
    {
     "data": {
      "text/html": [
       "<div>\n",
       "<style scoped>\n",
       "    .dataframe tbody tr th:only-of-type {\n",
       "        vertical-align: middle;\n",
       "    }\n",
       "\n",
       "    .dataframe tbody tr th {\n",
       "        vertical-align: top;\n",
       "    }\n",
       "\n",
       "    .dataframe thead th {\n",
       "        text-align: right;\n",
       "    }\n",
       "</style>\n",
       "<table border=\"1\" class=\"dataframe\">\n",
       "  <thead>\n",
       "    <tr style=\"text-align: right;\">\n",
       "      <th></th>\n",
       "      <th>Header</th>\n",
       "      <th>Gene Name</th>\n",
       "      <th>Position</th>\n",
       "      <th>Amino Acids</th>\n",
       "      <th>Is Unusual</th>\n",
       "      <th>Primary Type</th>\n",
       "      <th>Text Description</th>\n",
       "    </tr>\n",
       "  </thead>\n",
       "  <tbody>\n",
       "    <tr>\n",
       "      <th>0</th>\n",
       "      <td>DQ168573.1 HIV-1 isolate 01NGPL0567 from Niger...</td>\n",
       "      <td>PR</td>\n",
       "      <td>13</td>\n",
       "      <td>V</td>\n",
       "      <td>False</td>\n",
       "      <td>Other</td>\n",
       "      <td>I13V</td>\n",
       "    </tr>\n",
       "    <tr>\n",
       "      <th>1</th>\n",
       "      <td>DQ168573.1 HIV-1 isolate 01NGPL0567 from Niger...</td>\n",
       "      <td>PR</td>\n",
       "      <td>20</td>\n",
       "      <td>I</td>\n",
       "      <td>False</td>\n",
       "      <td>Other</td>\n",
       "      <td>K20I</td>\n",
       "    </tr>\n",
       "    <tr>\n",
       "      <th>2</th>\n",
       "      <td>DQ168573.1 HIV-1 isolate 01NGPL0567 from Niger...</td>\n",
       "      <td>PR</td>\n",
       "      <td>35</td>\n",
       "      <td>Q</td>\n",
       "      <td>False</td>\n",
       "      <td>Other</td>\n",
       "      <td>E35Q</td>\n",
       "    </tr>\n",
       "    <tr>\n",
       "      <th>3</th>\n",
       "      <td>DQ168573.1 HIV-1 isolate 01NGPL0567 from Niger...</td>\n",
       "      <td>PR</td>\n",
       "      <td>36</td>\n",
       "      <td>I</td>\n",
       "      <td>False</td>\n",
       "      <td>Other</td>\n",
       "      <td>M36I</td>\n",
       "    </tr>\n",
       "    <tr>\n",
       "      <th>4</th>\n",
       "      <td>DQ168573.1 HIV-1 isolate 01NGPL0567 from Niger...</td>\n",
       "      <td>PR</td>\n",
       "      <td>41</td>\n",
       "      <td>K</td>\n",
       "      <td>False</td>\n",
       "      <td>Other</td>\n",
       "      <td>R41K</td>\n",
       "    </tr>\n",
       "  </tbody>\n",
       "</table>\n",
       "</div>"
      ],
      "text/plain": [
       "                                              Header Gene Name  Position  \\\n",
       "0  DQ168573.1 HIV-1 isolate 01NGPL0567 from Niger...        PR        13   \n",
       "1  DQ168573.1 HIV-1 isolate 01NGPL0567 from Niger...        PR        20   \n",
       "2  DQ168573.1 HIV-1 isolate 01NGPL0567 from Niger...        PR        35   \n",
       "3  DQ168573.1 HIV-1 isolate 01NGPL0567 from Niger...        PR        36   \n",
       "4  DQ168573.1 HIV-1 isolate 01NGPL0567 from Niger...        PR        41   \n",
       "\n",
       "  Amino Acids  Is Unusual Primary Type Text Description  \n",
       "0           V       False        Other             I13V  \n",
       "1           I       False        Other             K20I  \n",
       "2           Q       False        Other             E35Q  \n",
       "3           I       False        Other             M36I  \n",
       "4           K       False        Other             R41K  "
      ]
     },
     "execution_count": 38,
     "metadata": {},
     "output_type": "execute_result"
    }
   ],
   "source": [
    "mutation_df.head()"
   ]
  },
  {
   "cell_type": "code",
   "execution_count": null,
   "id": "4e2d563f",
   "metadata": {
    "collapsed": true,
    "jupyter": {
     "outputs_hidden": true,
     "source_hidden": true
    },
    "tags": []
   },
   "outputs": [
    {
     "data": {
      "text/plain": [
       "Text Description\n",
       "K14R     107\n",
       "M36I      78\n",
       "V201I     77\n",
       "I293V     76\n",
       "T206S     75\n",
       "L89M      75\n",
       "S283G     75\n",
       "L234I     72\n",
       "D177E     71\n",
       "G359S     71\n",
       "V35T      71\n",
       "I13V      70\n",
       "R356K     70\n",
       "K20I      70\n",
       "R41K      69\n",
       "S519N     69\n",
       "D471E     69\n",
       "E291D     68\n",
       "T200A     68\n",
       "H69K      67\n",
       "Name: count, dtype: int64"
      ]
     },
     "execution_count": 44,
     "metadata": {},
     "output_type": "execute_result"
    }
   ],
   "source": [
    "mutation_df['Text Description'].value_counts()[:20]"
   ]
  },
  {
   "cell_type": "markdown",
   "id": "07fcc8fa",
   "metadata": {
    "jupyter": {
     "source_hidden": true
    },
    "tags": []
   },
   "source": [
    "# 1. Validation Results"
   ]
  },
  {
   "cell_type": "code",
   "execution_count": null,
   "id": "06e6a291",
   "metadata": {
    "collapsed": true,
    "jupyter": {
     "outputs_hidden": true,
     "source_hidden": true
    },
    "tags": []
   },
   "outputs": [
    {
     "data": {
      "text/html": [
       "<div>\n",
       "<style scoped>\n",
       "    .dataframe tbody tr th:only-of-type {\n",
       "        vertical-align: middle;\n",
       "    }\n",
       "\n",
       "    .dataframe tbody tr th {\n",
       "        vertical-align: top;\n",
       "    }\n",
       "\n",
       "    .dataframe thead th {\n",
       "        text-align: right;\n",
       "    }\n",
       "</style>\n",
       "<table border=\"1\" class=\"dataframe\">\n",
       "  <thead>\n",
       "    <tr style=\"text-align: right;\">\n",
       "      <th></th>\n",
       "      <th>level</th>\n",
       "      <th>message</th>\n",
       "    </tr>\n",
       "  </thead>\n",
       "  <tbody>\n",
       "    <tr>\n",
       "      <th>0</th>\n",
       "      <td>NOTE</td>\n",
       "      <td>This following APOBEC mutation was present in ...</td>\n",
       "    </tr>\n",
       "    <tr>\n",
       "      <th>1</th>\n",
       "      <td>NOTE</td>\n",
       "      <td>There is one stop codon in RT: RT:W383*.</td>\n",
       "    </tr>\n",
       "    <tr>\n",
       "      <th>2</th>\n",
       "      <td>NOTE</td>\n",
       "      <td>There is one stop codon in RT: RT:W402*.</td>\n",
       "    </tr>\n",
       "    <tr>\n",
       "      <th>3</th>\n",
       "      <td>SEVERE_WARNING</td>\n",
       "      <td>The following 5 APOBEC mutations were present ...</td>\n",
       "    </tr>\n",
       "    <tr>\n",
       "      <th>4</th>\n",
       "      <td>WARNING</td>\n",
       "      <td>There is one APOBEC-associated mutation at a d...</td>\n",
       "    </tr>\n",
       "  </tbody>\n",
       "</table>\n",
       "</div>"
      ],
      "text/plain": [
       "            level                                            message\n",
       "0            NOTE  This following APOBEC mutation was present in ...\n",
       "1            NOTE           There is one stop codon in RT: RT:W383*.\n",
       "2            NOTE           There is one stop codon in RT: RT:W402*.\n",
       "3  SEVERE_WARNING  The following 5 APOBEC mutations were present ...\n",
       "4         WARNING  There is one APOBEC-associated mutation at a d..."
      ]
     },
     "execution_count": 46,
     "metadata": {},
     "output_type": "execute_result"
    }
   ],
   "source": [
    "data = sierra_data\n",
    "def extract_validation_results(data):\n",
    "    validation_results = []\n",
    "    for item in data:\n",
    "        for result in item.get('validationResults', []):\n",
    "            validation_results.append({\n",
    "                'level': result.get('level'),\n",
    "                'message': result.get('message')\n",
    "            })\n",
    "    return pd.DataFrame(validation_results)\n",
    "\n",
    "# Usage\n",
    "validation_df = extract_validation_results(data)\n",
    "validation_df.head()\n"
   ]
  },
  {
   "cell_type": "markdown",
   "id": "05302c54",
   "metadata": {
    "jp-MarkdownHeadingCollapsed": true,
    "jupyter": {
     "source_hidden": true
    },
    "tags": []
   },
   "source": [
    "# Subtype Information"
   ]
  },
  {
   "cell_type": "code",
   "execution_count": null,
   "id": "ae5daa6a",
   "metadata": {},
   "outputs": [
    {
     "data": {
      "text/html": [
       "<div>\n",
       "<style scoped>\n",
       "    .dataframe tbody tr th:only-of-type {\n",
       "        vertical-align: middle;\n",
       "    }\n",
       "\n",
       "    .dataframe tbody tr th {\n",
       "        vertical-align: top;\n",
       "    }\n",
       "\n",
       "    .dataframe thead th {\n",
       "        text-align: right;\n",
       "    }\n",
       "</style>\n",
       "<table border=\"1\" class=\"dataframe\">\n",
       "  <thead>\n",
       "    <tr style=\"text-align: right;\">\n",
       "      <th></th>\n",
       "      <th>bestMatchingSubtype</th>\n",
       "      <th>mixturePcnt</th>\n",
       "    </tr>\n",
       "  </thead>\n",
       "  <tbody>\n",
       "    <tr>\n",
       "      <th>0</th>\n",
       "      <td>Unknown</td>\n",
       "      <td>Unknown</td>\n",
       "    </tr>\n",
       "    <tr>\n",
       "      <th>1</th>\n",
       "      <td>Unknown</td>\n",
       "      <td>Unknown</td>\n",
       "    </tr>\n",
       "    <tr>\n",
       "      <th>2</th>\n",
       "      <td>Unknown</td>\n",
       "      <td>Unknown</td>\n",
       "    </tr>\n",
       "    <tr>\n",
       "      <th>3</th>\n",
       "      <td>Unknown</td>\n",
       "      <td>Unknown</td>\n",
       "    </tr>\n",
       "    <tr>\n",
       "      <th>4</th>\n",
       "      <td>Unknown</td>\n",
       "      <td>Unknown</td>\n",
       "    </tr>\n",
       "  </tbody>\n",
       "</table>\n",
       "</div>"
      ],
      "text/plain": [
       "  bestMatchingSubtype mixturePcnt\n",
       "0             Unknown     Unknown\n",
       "1             Unknown     Unknown\n",
       "2             Unknown     Unknown\n",
       "3             Unknown     Unknown\n",
       "4             Unknown     Unknown"
      ]
     },
     "execution_count": 47,
     "metadata": {},
     "output_type": "execute_result"
    }
   ],
   "source": [
    "def extract_subtype_info(data):\n",
    "    subtype_info = []\n",
    "    for item in data:\n",
    "        subtype_info.append({\n",
    "            'bestMatchingSubtype': item.get('bestMatchingSubtype', {}).get('display', 'Unknown'),\n",
    "            'mixturePcnt': item.get('mixturePcnt', 'Unknown'),\n",
    "        })\n",
    "    return pd.DataFrame(subtype_info)\n",
    "\n",
    "# Usage\n",
    "subtype_df = extract_subtype_info(data)\n",
    "subtype_df.head()"
   ]
  },
  {
   "cell_type": "markdown",
   "id": "8f55e4ba",
   "metadata": {
    "jp-MarkdownHeadingCollapsed": true,
    "jupyter": {
     "source_hidden": true
    },
    "tags": []
   },
   "source": [
    "# Frameshifts"
   ]
  },
  {
   "cell_type": "code",
   "execution_count": null,
   "id": "88882ff2",
   "metadata": {},
   "outputs": [
    {
     "data": {
      "text/html": [
       "<div>\n",
       "<style scoped>\n",
       "    .dataframe tbody tr th:only-of-type {\n",
       "        vertical-align: middle;\n",
       "    }\n",
       "\n",
       "    .dataframe tbody tr th {\n",
       "        vertical-align: top;\n",
       "    }\n",
       "\n",
       "    .dataframe thead th {\n",
       "        text-align: right;\n",
       "    }\n",
       "</style>\n",
       "<table border=\"1\" class=\"dataframe\">\n",
       "  <thead>\n",
       "    <tr style=\"text-align: right;\">\n",
       "      <th></th>\n",
       "    </tr>\n",
       "  </thead>\n",
       "  <tbody>\n",
       "  </tbody>\n",
       "</table>\n",
       "</div>"
      ],
      "text/plain": [
       "Empty DataFrame\n",
       "Columns: []\n",
       "Index: []"
      ]
     },
     "execution_count": 49,
     "metadata": {},
     "output_type": "execute_result"
    }
   ],
   "source": [
    "def extract_frame_shifts(data):\n",
    "    frame_shifts = []\n",
    "    for item in data:\n",
    "        for gene in item.get('alignedGeneSequences', []):\n",
    "            for shift in gene.get('frameShifts', []):\n",
    "                frame_shifts.append({\n",
    "                    'gene': gene.get('gene', {}).get('name', ''),\n",
    "                    'position': shift.get('position'),\n",
    "                    'isInsertion': shift.get('isInsertion'),\n",
    "                    'isDeletion': shift.get('isDeletion'),\n",
    "                    'size': shift.get('size'),\n",
    "                    'NAs': shift.get('NAs'),\n",
    "                    'text': shift.get('text')\n",
    "                })\n",
    "    return pd.DataFrame(frame_shifts)\n",
    "\n",
    "# Usage\n",
    "frame_shifts_df = extract_frame_shifts(data)\n",
    "frame_shifts_df"
   ]
  },
  {
   "cell_type": "markdown",
   "id": "a7e53f9b",
   "metadata": {
    "jp-MarkdownHeadingCollapsed": true,
    "jupyter": {
     "source_hidden": true
    },
    "tags": []
   },
   "source": [
    "# Treatment-Selected Mutation"
   ]
  },
  {
   "cell_type": "code",
   "execution_count": null,
   "id": "81ced365",
   "metadata": {},
   "outputs": [
    {
     "data": {
      "text/html": [
       "<pre style=\"white-space:pre;overflow-x:auto;line-height:normal;font-family:Menlo,'DejaVu Sans Mono',consolas,'Courier New',monospace\">Empty DataFrame\n",
       "Columns: <span style=\"font-weight: bold\">[]</span>\n",
       "Index: <span style=\"font-weight: bold\">[]</span>\n",
       "</pre>\n"
      ],
      "text/plain": [
       "Empty DataFrame\n",
       "Columns: \u001b[1m[\u001b[0m\u001b[1m]\u001b[0m\n",
       "Index: \u001b[1m[\u001b[0m\u001b[1m]\u001b[0m\n"
      ]
     },
     "metadata": {},
     "output_type": "display_data"
    }
   ],
   "source": [
    "def extract_tsm(data):\n",
    "    tsm_info = []\n",
    "    for item in data:\n",
    "        for gene in item.get('alignedGeneSequences', []):\n",
    "            for mutation in gene.get('treatmentSelectedMutations', []):\n",
    "                tsm_info.append({\n",
    "                    'gene': gene.get('gene', {}).get('name', ''),\n",
    "                    'mutation_text': mutation.get('text')\n",
    "                })\n",
    "    return pd.DataFrame(tsm_info)\n",
    "\n",
    "# Usage\n",
    "tsm_df = extract_tsm(data)\n",
    "print(tsm_df.head())e\n"
   ]
  },
  {
   "cell_type": "markdown",
   "id": "75512a5c",
   "metadata": {
    "jp-MarkdownHeadingCollapsed": true,
    "jupyter": {
     "source_hidden": true
    },
    "tags": []
   },
   "source": [
    "# Unusual Mutations"
   ]
  },
  {
   "cell_type": "code",
   "execution_count": null,
   "id": "a8297052",
   "metadata": {},
   "outputs": [
    {
     "data": {
      "text/html": [
       "<div>\n",
       "<style scoped>\n",
       "    .dataframe tbody tr th:only-of-type {\n",
       "        vertical-align: middle;\n",
       "    }\n",
       "\n",
       "    .dataframe tbody tr th {\n",
       "        vertical-align: top;\n",
       "    }\n",
       "\n",
       "    .dataframe thead th {\n",
       "        text-align: right;\n",
       "    }\n",
       "</style>\n",
       "<table border=\"1\" class=\"dataframe\">\n",
       "  <thead>\n",
       "    <tr style=\"text-align: right;\">\n",
       "      <th></th>\n",
       "    </tr>\n",
       "  </thead>\n",
       "  <tbody>\n",
       "  </tbody>\n",
       "</table>\n",
       "</div>"
      ],
      "text/plain": [
       "Empty DataFrame\n",
       "Columns: []\n",
       "Index: []"
      ]
     },
     "execution_count": 51,
     "metadata": {},
     "output_type": "execute_result"
    }
   ],
   "source": [
    "def extract_unusual_mutations(data):\n",
    "    unusual_info = []\n",
    "    for item in data:\n",
    "        for gene in item.get('alignedGeneSequences', []):\n",
    "            for mutation in gene.get('unusualMutations', []):\n",
    "                unusual_info.append({\n",
    "                    'gene': gene.get('gene', {}).get('name', ''),\n",
    "                    'text': mutation.get('text')\n",
    "                })\n",
    "    return pd.DataFrame(unusual_info)\n",
    "\n",
    "# Usage\n",
    "unusual_df = extract_unusual_mutations(data)\n",
    "unusual_df.head()"
   ]
  },
  {
   "cell_type": "markdown",
   "id": "d0ea4a37",
   "metadata": {
    "jp-MarkdownHeadingCollapsed": true,
    "jupyter": {
     "source_hidden": true
    },
    "tags": []
   },
   "source": [
    "# Drug resistance mutations by subtypes"
   ]
  },
  {
   "cell_type": "code",
   "execution_count": null,
   "id": "136415cd",
   "metadata": {},
   "outputs": [
    {
     "data": {
      "text/html": [
       "<pre style=\"white-space:pre;overflow-x:auto;line-height:normal;font-family:Menlo,'DejaVu Sans Mono',consolas,'Courier New',monospace\">Empty DataFrame\n",
       "Columns: <span style=\"font-weight: bold\">[]</span>\n",
       "Index: <span style=\"font-weight: bold\">[]</span>\n",
       "</pre>\n"
      ],
      "text/plain": [
       "Empty DataFrame\n",
       "Columns: \u001b[1m[\u001b[0m\u001b[1m]\u001b[0m\n",
       "Index: \u001b[1m[\u001b[0m\u001b[1m]\u001b[0m\n"
      ]
     },
     "metadata": {},
     "output_type": "display_data"
    }
   ],
   "source": [
    "def extract_drug_resistance(data):\n",
    "    resistance_info = []\n",
    "    for item in data:\n",
    "        for resistance in item.get('drugResistance', []):\n",
    "            gene = resistance.get('gene', {}).get('name', '')\n",
    "            for mutation_type in resistance.get('mutationsByTypes', []):\n",
    "                mutation_type_name = mutation_type.get('mutationType')\n",
    "                for mutation in mutation_type.get('mutations', []):\n",
    "                    resistance_info.append({\n",
    "                        'gene': gene,\n",
    "                        'mutation_type': mutation_type_name,\n",
    "                        'reference': mutation.get('reference'),\n",
    "                        'position': mutation.get('position'),\n",
    "                        'AAs': mutation.get('AAs'),\n",
    "                        'text': mutation.get('text')\n",
    "                    })\n",
    "    return pd.DataFrame(resistance_info)\n",
    "\n",
    "# Usage\n",
    "drug_resistance_df = extract_drug_resistance(data)\n",
    "print(drug_resistance_df.head())\n"
   ]
  },
  {
   "cell_type": "markdown",
   "id": "24b26879",
   "metadata": {
    "jp-MarkdownHeadingCollapsed": true,
    "jupyter": {
     "source_hidden": true
    },
    "tags": []
   },
   "source": [
    "# Partial Drug Resistance scores"
   ]
  },
  {
   "cell_type": "code",
   "execution_count": null,
   "id": "5ccb4e4b",
   "metadata": {},
   "outputs": [
    {
     "ename": "AttributeError",
     "evalue": "'list' object has no attribute 'get'",
     "output_type": "error",
     "traceback": [
      "\u001b[0;31m---------------------------------------------------------------------------\u001b[0m",
      "\u001b[0;31mAttributeError\u001b[0m                            Traceback (most recent call last)",
      "Cell \u001b[0;32mIn[53], line 16\u001b[0m\n\u001b[1;32m     13\u001b[0m     \u001b[38;5;28;01mreturn\u001b[39;00m pd\u001b[38;5;241m.\u001b[39mDataFrame(partial_scores)\n\u001b[1;32m     15\u001b[0m \u001b[38;5;66;03m# Usage\u001b[39;00m\n\u001b[0;32m---> 16\u001b[0m partial_scores_df \u001b[38;5;241m=\u001b[39m \u001b[43mextract_partial_drug_scores\u001b[49m\u001b[43m(\u001b[49m\u001b[43mdata\u001b[49m\u001b[43m)\u001b[49m\n\u001b[1;32m     17\u001b[0m \u001b[38;5;28mprint\u001b[39m(partial_scores_df\u001b[38;5;241m.\u001b[39mhead())\n",
      "Cell \u001b[0;32mIn[53], line 10\u001b[0m, in \u001b[0;36mextract_partial_drug_scores\u001b[0;34m(data)\u001b[0m\n\u001b[1;32m      6\u001b[0m             drug \u001b[38;5;241m=\u001b[39m drug_score\u001b[38;5;241m.\u001b[39mget(\u001b[38;5;124m'\u001b[39m\u001b[38;5;124mdrug\u001b[39m\u001b[38;5;124m'\u001b[39m, {})\u001b[38;5;241m.\u001b[39mget(\u001b[38;5;124m'\u001b[39m\u001b[38;5;124mdisplayAbbr\u001b[39m\u001b[38;5;124m'\u001b[39m, \u001b[38;5;124m'\u001b[39m\u001b[38;5;124m'\u001b[39m)\n\u001b[1;32m      7\u001b[0m             \u001b[38;5;28;01mfor\u001b[39;00m partial \u001b[38;5;129;01min\u001b[39;00m drug_score\u001b[38;5;241m.\u001b[39mget(\u001b[38;5;124m'\u001b[39m\u001b[38;5;124mpartialScores\u001b[39m\u001b[38;5;124m'\u001b[39m, []):\n\u001b[1;32m      8\u001b[0m                 partial_scores\u001b[38;5;241m.\u001b[39mappend({\n\u001b[1;32m      9\u001b[0m                     \u001b[38;5;124m'\u001b[39m\u001b[38;5;124mdrug\u001b[39m\u001b[38;5;124m'\u001b[39m: drug,\n\u001b[0;32m---> 10\u001b[0m                     \u001b[38;5;124m'\u001b[39m\u001b[38;5;124mmutation_text\u001b[39m\u001b[38;5;124m'\u001b[39m: \u001b[43mpartial\u001b[49m\u001b[38;5;241;43m.\u001b[39;49m\u001b[43mget\u001b[49m\u001b[43m(\u001b[49m\u001b[38;5;124;43m'\u001b[39;49m\u001b[38;5;124;43mmutations\u001b[39;49m\u001b[38;5;124;43m'\u001b[39;49m\u001b[43m,\u001b[49m\u001b[43m \u001b[49m\u001b[43m{\u001b[49m\u001b[43m}\u001b[49m\u001b[43m)\u001b[49m\u001b[38;5;241;43m.\u001b[39;49m\u001b[43mget\u001b[49m(\u001b[38;5;124m'\u001b[39m\u001b[38;5;124mtext\u001b[39m\u001b[38;5;124m'\u001b[39m, \u001b[38;5;124m'\u001b[39m\u001b[38;5;124m'\u001b[39m),\n\u001b[1;32m     11\u001b[0m                     \u001b[38;5;124m'\u001b[39m\u001b[38;5;124mpartial_score\u001b[39m\u001b[38;5;124m'\u001b[39m: partial\u001b[38;5;241m.\u001b[39mget(\u001b[38;5;124m'\u001b[39m\u001b[38;5;124mscore\u001b[39m\u001b[38;5;124m'\u001b[39m)\n\u001b[1;32m     12\u001b[0m                 })\n\u001b[1;32m     13\u001b[0m \u001b[38;5;28;01mreturn\u001b[39;00m pd\u001b[38;5;241m.\u001b[39mDataFrame(partial_scores)\n",
      "\u001b[0;31mAttributeError\u001b[0m: 'list' object has no attribute 'get'"
     ]
    }
   ],
   "source": [
    "def extract_partial_drug_scores(data):\n",
    "    partial_scores = []\n",
    "    for item in data:\n",
    "        for resistance in item.get('drugResistance', []):\n",
    "            for drug_score in resistance.get('drugScores', []):\n",
    "                drug = drug_score.get('drug', {}).get('displayAbbr', '')\n",
    "                for partial in drug_score.get('partialScores', []):\n",
    "                    partial_scores.append({\n",
    "                        'drug': drug,\n",
    "                        'mutation_text': partial.get('mutations', {}).get('text', ''),\n",
    "                        'partial_score': partial.get('score')\n",
    "                    })\n",
    "    return pd.DataFrame(partial_scores)\n",
    "\n",
    "# Usage\n",
    "partial_scores_df = extract_partial_drug_scores(data)\n",
    "print(partial_scores_df.head())\n"
   ]
  },
  {
   "cell_type": "code",
   "execution_count": null,
   "id": "70a3ca0f",
   "metadata": {},
   "outputs": [],
   "source": []
  }
 ],
 "metadata": {
  "kernelspec": {
   "display_name": "hivmut",
   "language": "python",
   "name": "hivmut"
  },
  "language_info": {
   "codemirror_mode": {
    "name": "ipython",
    "version": 3
   },
   "file_extension": ".py",
   "mimetype": "text/x-python",
   "name": "python",
   "nbconvert_exporter": "python",
   "pygments_lexer": "ipython3",
   "version": "3.11.5"
  }
 },
 "nbformat": 4,
 "nbformat_minor": 5
}
